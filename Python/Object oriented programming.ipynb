{
 "cells": [
  {
   "cell_type": "markdown",
   "id": "ec3d5eeb",
   "metadata": {},
   "source": [
    "Functions can have many parameters and it exists on its own   ->function()"
   ]
  },
  {
   "cell_type": "markdown",
   "id": "d39049d4",
   "metadata": {},
   "source": [
    "In methods the object is one of its parameters and it belongs to certain classes   ->object.method()"
   ]
  },
  {
   "cell_type": "markdown",
   "id": "be09f3df",
   "metadata": {},
   "source": [
    "Importing Modules:"
   ]
  },
  {
   "cell_type": "code",
   "execution_count": 1,
   "id": "fdf65fa4",
   "metadata": {},
   "outputs": [
    {
     "data": {
      "text/plain": [
       "2.449489742783178"
      ]
     },
     "execution_count": 1,
     "metadata": {},
     "output_type": "execute_result"
    }
   ],
   "source": [
    "import math\n",
    "math.sqrt(6)"
   ]
  },
  {
   "cell_type": "code",
   "execution_count": 2,
   "id": "98b30f1e",
   "metadata": {},
   "outputs": [
    {
     "data": {
      "text/plain": [
       "5.0"
      ]
     },
     "execution_count": 2,
     "metadata": {},
     "output_type": "execute_result"
    }
   ],
   "source": [
    "from math import sqrt\n",
    "sqrt(25)"
   ]
  },
  {
   "cell_type": "code",
   "execution_count": 3,
   "id": "64802d6a",
   "metadata": {},
   "outputs": [
    {
     "data": {
      "text/plain": [
       "6.0"
      ]
     },
     "execution_count": 3,
     "metadata": {},
     "output_type": "execute_result"
    }
   ],
   "source": [
    "from math import sqrt as s\n",
    "s(36)"
   ]
  },
  {
   "cell_type": "code",
   "execution_count": 4,
   "id": "58fcb1b4",
   "metadata": {},
   "outputs": [
    {
     "data": {
      "text/plain": [
       "10.0"
      ]
     },
     "execution_count": 4,
     "metadata": {},
     "output_type": "execute_result"
    }
   ],
   "source": [
    "import math as m\n",
    "m.sqrt(100)"
   ]
  },
  {
   "cell_type": "code",
   "execution_count": 5,
   "id": "644497d9",
   "metadata": {},
   "outputs": [
    {
     "data": {
      "text/plain": [
       "11.180339887498949"
      ]
     },
     "execution_count": 5,
     "metadata": {},
     "output_type": "execute_result"
    }
   ],
   "source": [
    "from math import *\n",
    "sqrt(125)"
   ]
  }
 ],
 "metadata": {
  "kernelspec": {
   "display_name": "Python 3 (ipykernel)",
   "language": "python",
   "name": "python3"
  },
  "language_info": {
   "codemirror_mode": {
    "name": "ipython",
    "version": 3
   },
   "file_extension": ".py",
   "mimetype": "text/x-python",
   "name": "python",
   "nbconvert_exporter": "python",
   "pygments_lexer": "ipython3",
   "version": "3.9.7"
  }
 },
 "nbformat": 4,
 "nbformat_minor": 5
}
