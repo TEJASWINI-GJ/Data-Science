{
 "cells": [
  {
   "cell_type": "markdown",
   "id": "a382d8d1",
   "metadata": {},
   "source": [
    "\n",
    "                                                     Functions\n"
   ]
  },
  {
   "cell_type": "markdown",
   "id": "3760ed56",
   "metadata": {},
   "source": [
    "def  -> Keyword\n",
    "\n",
    "Syntax:\n",
    "def function_name(parameters):\n",
    "  fuction body"
   ]
  },
  {
   "cell_type": "code",
   "execution_count": 1,
   "id": "3f001a0b",
   "metadata": {},
   "outputs": [],
   "source": [
    "def simple():\n",
    "    print(\"Python Function\")"
   ]
  },
  {
   "cell_type": "code",
   "execution_count": 40,
   "id": "983c3ba2",
   "metadata": {},
   "outputs": [
    {
     "name": "stdout",
     "output_type": "stream",
     "text": [
      "Python Function\n"
     ]
    }
   ],
   "source": [
    "simple()"
   ]
  },
  {
   "cell_type": "code",
   "execution_count": 7,
   "id": "56bcd030",
   "metadata": {},
   "outputs": [
    {
     "name": "stdout",
     "output_type": "stream",
     "text": [
      "10\n"
     ]
    }
   ],
   "source": [
    "def addition1(a):\n",
    "    return a\n",
    "print(addition1(10))"
   ]
  },
  {
   "cell_type": "code",
   "execution_count": 6,
   "id": "54205140",
   "metadata": {},
   "outputs": [
    {
     "name": "stdout",
     "output_type": "stream",
     "text": [
      "25\n"
     ]
    }
   ],
   "source": [
    "def addition2(a):\n",
    "    return a + 10\n",
    "print(addition2(15))"
   ]
  },
  {
   "cell_type": "code",
   "execution_count": 5,
   "id": "58f3838a",
   "metadata": {},
   "outputs": [
    {
     "data": {
      "text/plain": [
       "22"
      ]
     },
     "execution_count": 5,
     "metadata": {},
     "output_type": "execute_result"
    }
   ],
   "source": [
    "def addition3(a):\n",
    "    result=a+10\n",
    "    return result\n",
    "addition3(12)"
   ]
  },
  {
   "cell_type": "code",
   "execution_count": 8,
   "id": "b5858f65",
   "metadata": {},
   "outputs": [
    {
     "data": {
      "text/plain": [
       "'Result'"
      ]
     },
     "execution_count": 8,
     "metadata": {},
     "output_type": "execute_result"
    }
   ],
   "source": [
    "#we can return only one statement in a function\n",
    "\n",
    "def addition3(a):\n",
    "    result=a+10\n",
    "    return \"Result\"\n",
    "    return result\n",
    "addition3(12)"
   ]
  },
  {
   "cell_type": "code",
   "execution_count": 10,
   "id": "b5a6525b",
   "metadata": {},
   "outputs": [
    {
     "name": "stdout",
     "output_type": "stream",
     "text": [
      "Result\n"
     ]
    },
    {
     "data": {
      "text/plain": [
       "22"
      ]
     },
     "execution_count": 10,
     "metadata": {},
     "output_type": "execute_result"
    }
   ],
   "source": [
    "def addition3(a):\n",
    "    result=a+10\n",
    "    print(\"Result\")\n",
    "    return result\n",
    "addition3(12)"
   ]
  },
  {
   "cell_type": "markdown",
   "id": "f9b1686d",
   "metadata": {},
   "source": [
    "Function within a function"
   ]
  },
  {
   "cell_type": "code",
   "execution_count": 11,
   "id": "1b1f8dab",
   "metadata": {},
   "outputs": [],
   "source": [
    "def wage(hours):\n",
    "    return hours*25\n",
    "def bonus(hours):\n",
    "    return wage(hours)+50"
   ]
  },
  {
   "cell_type": "code",
   "execution_count": 12,
   "id": "7ae5c0b9",
   "metadata": {},
   "outputs": [
    {
     "data": {
      "text/plain": [
       "(200, 250)"
      ]
     },
     "execution_count": 12,
     "metadata": {},
     "output_type": "execute_result"
    }
   ],
   "source": [
    "wage(8),bonus(8)"
   ]
  },
  {
   "cell_type": "markdown",
   "id": "cca3a63e",
   "metadata": {},
   "source": [
    "Conditional Statements with functions"
   ]
  },
  {
   "cell_type": "code",
   "execution_count": 13,
   "id": "890e18af",
   "metadata": {},
   "outputs": [],
   "source": [
    "def addition4(a):\n",
    "    if a>=100:\n",
    "        return a+10\n",
    "    else:\n",
    "        return \"Save More\""
   ]
  },
  {
   "cell_type": "code",
   "execution_count": 14,
   "id": "52e87dbb",
   "metadata": {},
   "outputs": [
    {
     "data": {
      "text/plain": [
       "110"
      ]
     },
     "execution_count": 14,
     "metadata": {},
     "output_type": "execute_result"
    }
   ],
   "source": [
    "addition4(100)"
   ]
  },
  {
   "cell_type": "code",
   "execution_count": 15,
   "id": "13789936",
   "metadata": {},
   "outputs": [
    {
     "data": {
      "text/plain": [
       "'Save More'"
      ]
     },
     "execution_count": 15,
     "metadata": {},
     "output_type": "execute_result"
    }
   ],
   "source": [
    "addition4(70)"
   ]
  },
  {
   "cell_type": "markdown",
   "id": "ac65be41",
   "metadata": {},
   "source": [
    "Functions with more parameters"
   ]
  },
  {
   "cell_type": "code",
   "execution_count": 25,
   "id": "2e16befe",
   "metadata": {},
   "outputs": [],
   "source": [
    "def sub(a,b,c):\n",
    "    result=a - b*c\n",
    "    print(\"a =\",a)\n",
    "    print(\"b =\",b)\n",
    "    print(\"c =\",c)\n",
    "    return result"
   ]
  },
  {
   "cell_type": "code",
   "execution_count": 26,
   "id": "744b7e03",
   "metadata": {},
   "outputs": [
    {
     "name": "stdout",
     "output_type": "stream",
     "text": [
      "a = 40\n",
      "b = 2\n",
      "c = 3\n"
     ]
    },
    {
     "data": {
      "text/plain": [
       "34"
      ]
     },
     "execution_count": 26,
     "metadata": {},
     "output_type": "execute_result"
    }
   ],
   "source": [
    "sub(40,2,3)"
   ]
  },
  {
   "cell_type": "markdown",
   "id": "b0be5d5b",
   "metadata": {},
   "source": [
    "Built-in functions"
   ]
  },
  {
   "cell_type": "code",
   "execution_count": 27,
   "id": "4871ea18",
   "metadata": {},
   "outputs": [
    {
     "data": {
      "text/plain": [
       "int"
      ]
     },
     "execution_count": 27,
     "metadata": {},
     "output_type": "execute_result"
    }
   ],
   "source": [
    "type(10)"
   ]
  },
  {
   "cell_type": "code",
   "execution_count": 29,
   "id": "7c756eed",
   "metadata": {},
   "outputs": [
    {
     "data": {
      "text/plain": [
       "3.0"
      ]
     },
     "execution_count": 29,
     "metadata": {},
     "output_type": "execute_result"
    }
   ],
   "source": [
    "float(3)"
   ]
  },
  {
   "cell_type": "code",
   "execution_count": 30,
   "id": "281d4b8b",
   "metadata": {},
   "outputs": [
    {
     "data": {
      "text/plain": [
       "40"
      ]
     },
     "execution_count": 30,
     "metadata": {},
     "output_type": "execute_result"
    }
   ],
   "source": [
    "max(10,20,40)"
   ]
  },
  {
   "cell_type": "code",
   "execution_count": 31,
   "id": "43042788",
   "metadata": {},
   "outputs": [
    {
     "data": {
      "text/plain": [
       "10"
      ]
     },
     "execution_count": 31,
     "metadata": {},
     "output_type": "execute_result"
    }
   ],
   "source": [
    "min(78,56,10)"
   ]
  },
  {
   "cell_type": "code",
   "execution_count": 32,
   "id": "3a45a8ef",
   "metadata": {},
   "outputs": [
    {
     "data": {
      "text/plain": [
       "20"
      ]
     },
     "execution_count": 32,
     "metadata": {},
     "output_type": "execute_result"
    }
   ],
   "source": [
    "z=-20\n",
    "abs(z)"
   ]
  },
  {
   "cell_type": "code",
   "execution_count": 35,
   "id": "7c6f42c3",
   "metadata": {},
   "outputs": [
    {
     "data": {
      "text/plain": [
       "10"
      ]
     },
     "execution_count": 35,
     "metadata": {},
     "output_type": "execute_result"
    }
   ],
   "source": [
    "list1=[1,2,3,4]\n",
    "sum(list1)"
   ]
  },
  {
   "cell_type": "code",
   "execution_count": 36,
   "id": "aeb08769",
   "metadata": {},
   "outputs": [
    {
     "data": {
      "text/plain": [
       "3.56"
      ]
     },
     "execution_count": 36,
     "metadata": {},
     "output_type": "execute_result"
    }
   ],
   "source": [
    "round(3.556,2)"
   ]
  },
  {
   "cell_type": "code",
   "execution_count": 37,
   "id": "0c0ba21f",
   "metadata": {},
   "outputs": [
    {
     "data": {
      "text/plain": [
       "3.56"
      ]
     },
     "execution_count": 37,
     "metadata": {},
     "output_type": "execute_result"
    }
   ],
   "source": [
    "round(3.563,2)"
   ]
  },
  {
   "cell_type": "code",
   "execution_count": 38,
   "id": "6928f14a",
   "metadata": {},
   "outputs": [
    {
     "data": {
      "text/plain": [
       "1024"
      ]
     },
     "execution_count": 38,
     "metadata": {},
     "output_type": "execute_result"
    }
   ],
   "source": [
    "pow(2,10)"
   ]
  },
  {
   "cell_type": "code",
   "execution_count": 41,
   "id": "9f025685",
   "metadata": {},
   "outputs": [
    {
     "data": {
      "text/plain": [
       "6"
      ]
     },
     "execution_count": 41,
     "metadata": {},
     "output_type": "execute_result"
    }
   ],
   "source": [
    "len(\"Python\") #length starts from 1"
   ]
  },
  {
   "cell_type": "markdown",
   "id": "39a70bc0",
   "metadata": {},
   "source": [
    "\n",
    "                                                   List\n",
    "                                                         "
   ]
  },
  {
   "cell_type": "markdown",
   "id": "50817f30",
   "metadata": {},
   "source": [
    "List is a type of sequence of data points"
   ]
  },
  {
   "cell_type": "code",
   "execution_count": 46,
   "id": "c193b474",
   "metadata": {},
   "outputs": [
    {
     "data": {
      "text/plain": [
       "['john', 'leela', 'naveen', 'teena']"
      ]
     },
     "execution_count": 46,
     "metadata": {},
     "output_type": "execute_result"
    }
   ],
   "source": [
    "people=['john','leela','naveen','teena']\n",
    "people"
   ]
  },
  {
   "cell_type": "code",
   "execution_count": 47,
   "id": "09421453",
   "metadata": {},
   "outputs": [
    {
     "data": {
      "text/plain": [
       "'leela'"
      ]
     },
     "execution_count": 47,
     "metadata": {},
     "output_type": "execute_result"
    }
   ],
   "source": [
    "people[1]"
   ]
  },
  {
   "cell_type": "code",
   "execution_count": 48,
   "id": "d3faed17",
   "metadata": {},
   "outputs": [
    {
     "data": {
      "text/plain": [
       "'teena'"
      ]
     },
     "execution_count": 48,
     "metadata": {},
     "output_type": "execute_result"
    }
   ],
   "source": [
    "#last element\n",
    "people[-1]"
   ]
  },
  {
   "cell_type": "code",
   "execution_count": 49,
   "id": "7d8a1847",
   "metadata": {},
   "outputs": [
    {
     "data": {
      "text/plain": [
       "'naveen'"
      ]
     },
     "execution_count": 49,
     "metadata": {},
     "output_type": "execute_result"
    }
   ],
   "source": [
    "#last 2nd element\n",
    "people[-2]"
   ]
  },
  {
   "cell_type": "code",
   "execution_count": 51,
   "id": "594709e6",
   "metadata": {},
   "outputs": [
    {
     "data": {
      "text/plain": [
       "['john', 'leela', 'naveen', 'Teju']"
      ]
     },
     "execution_count": 51,
     "metadata": {},
     "output_type": "execute_result"
    }
   ],
   "source": [
    "#replace\n",
    "people[3]='Teju'\n",
    "people"
   ]
  },
  {
   "cell_type": "code",
   "execution_count": 52,
   "id": "0b129bf0",
   "metadata": {},
   "outputs": [
    {
     "data": {
      "text/plain": [
       "['john', 'leela', 'Teju']"
      ]
     },
     "execution_count": 52,
     "metadata": {},
     "output_type": "execute_result"
    }
   ],
   "source": [
    "#delete element\n",
    "del people[2]\n",
    "people"
   ]
  },
  {
   "cell_type": "markdown",
   "id": "9bf7cd82",
   "metadata": {},
   "source": [
    "Methods"
   ]
  },
  {
   "cell_type": "code",
   "execution_count": 96,
   "id": "f34c9435",
   "metadata": {},
   "outputs": [
    {
     "data": {
      "text/plain": [
       "['john', 'leela', 'Teju', 'jaggu']"
      ]
     },
     "execution_count": 96,
     "metadata": {},
     "output_type": "execute_result"
    }
   ],
   "source": [
    "#insert values\n",
    "people.append(\"jaggu\")\n",
    "people"
   ]
  },
  {
   "cell_type": "code",
   "execution_count": 98,
   "id": "b530c25d",
   "metadata": {},
   "outputs": [
    {
     "data": {
      "text/plain": [
       "['john', 'leela', 'Teju', 'jaggu', 'Akshay', 'Amrutha']"
      ]
     },
     "execution_count": 98,
     "metadata": {},
     "output_type": "execute_result"
    }
   ],
   "source": [
    "#extend values\n",
    "people.extend([\"Akshay\",\"Amrutha\"])\n",
    "people"
   ]
  },
  {
   "cell_type": "code",
   "execution_count": 99,
   "id": "c082e4c7",
   "metadata": {},
   "outputs": [
    {
     "name": "stdout",
     "output_type": "stream",
     "text": [
      "First participant is john.\n"
     ]
    }
   ],
   "source": [
    "print(\"First participant is \"+people[0]+'.')"
   ]
  },
  {
   "cell_type": "code",
   "execution_count": 100,
   "id": "fc8209fc",
   "metadata": {},
   "outputs": [
    {
     "data": {
      "text/plain": [
       "6"
      ]
     },
     "execution_count": 100,
     "metadata": {},
     "output_type": "execute_result"
    }
   ],
   "source": [
    "len(people)"
   ]
  },
  {
   "cell_type": "markdown",
   "id": "3ebd369f",
   "metadata": {},
   "source": [
    "Slicing"
   ]
  },
  {
   "cell_type": "code",
   "execution_count": 101,
   "id": "c1e888b7",
   "metadata": {},
   "outputs": [
    {
     "data": {
      "text/plain": [
       "['john', 'leela', 'Teju', 'jaggu', 'Akshay', 'Amrutha']"
      ]
     },
     "execution_count": 101,
     "metadata": {},
     "output_type": "execute_result"
    }
   ],
   "source": [
    "people"
   ]
  },
  {
   "cell_type": "code",
   "execution_count": 102,
   "id": "91a393bd",
   "metadata": {},
   "outputs": [
    {
     "data": {
      "text/plain": [
       "['leela', 'Teju']"
      ]
     },
     "execution_count": 102,
     "metadata": {},
     "output_type": "execute_result"
    }
   ],
   "source": [
    "people[1:3]"
   ]
  },
  {
   "cell_type": "code",
   "execution_count": 103,
   "id": "619e85e2",
   "metadata": {},
   "outputs": [
    {
     "data": {
      "text/plain": [
       "['john', 'leela']"
      ]
     },
     "execution_count": 103,
     "metadata": {},
     "output_type": "execute_result"
    }
   ],
   "source": [
    "people[:2]"
   ]
  },
  {
   "cell_type": "code",
   "execution_count": 104,
   "id": "64c5c4f2",
   "metadata": {},
   "outputs": [
    {
     "data": {
      "text/plain": [
       "['Akshay', 'Amrutha']"
      ]
     },
     "execution_count": 104,
     "metadata": {},
     "output_type": "execute_result"
    }
   ],
   "source": [
    "people[4:] #another way people[-2:]"
   ]
  },
  {
   "cell_type": "code",
   "execution_count": 105,
   "id": "d4fb5255",
   "metadata": {},
   "outputs": [
    {
     "data": {
      "text/plain": [
       "2"
      ]
     },
     "execution_count": 105,
     "metadata": {},
     "output_type": "execute_result"
    }
   ],
   "source": [
    "#access index value\n",
    "people.index(\"Teju\")"
   ]
  },
  {
   "cell_type": "code",
   "execution_count": 106,
   "id": "8799c804",
   "metadata": {},
   "outputs": [
    {
     "data": {
      "text/plain": [
       "['aarav', 'abhi']"
      ]
     },
     "execution_count": 106,
     "metadata": {},
     "output_type": "execute_result"
    }
   ],
   "source": [
    "#creating another list\n",
    "newlist=[\"aarav\",\"abhi\"]\n",
    "newlist"
   ]
  },
  {
   "cell_type": "code",
   "execution_count": 107,
   "id": "3e60f348",
   "metadata": {},
   "outputs": [
    {
     "data": {
      "text/plain": [
       "[['john', 'leela', 'Teju', 'jaggu', 'Akshay', 'Amrutha'], ['aarav', 'abhi']]"
      ]
     },
     "execution_count": 107,
     "metadata": {},
     "output_type": "execute_result"
    }
   ],
   "source": [
    "#combining 2 list\n",
    "combined_list=[people,newlist]\n",
    "combined_list"
   ]
  },
  {
   "cell_type": "markdown",
   "id": "e762ea98",
   "metadata": {},
   "source": [
    "Sort"
   ]
  },
  {
   "cell_type": "code",
   "execution_count": 108,
   "id": "00d216b5",
   "metadata": {},
   "outputs": [
    {
     "data": {
      "text/plain": [
       "['Akshay', 'Amrutha', 'Teju', 'jaggu', 'john', 'leela']"
      ]
     },
     "execution_count": 108,
     "metadata": {},
     "output_type": "execute_result"
    }
   ],
   "source": [
    "people.sort()\n",
    "people"
   ]
  },
  {
   "cell_type": "code",
   "execution_count": 109,
   "id": "827d9e95",
   "metadata": {},
   "outputs": [
    {
     "data": {
      "text/plain": [
       "['leela', 'john', 'jaggu', 'Teju', 'Amrutha', 'Akshay']"
      ]
     },
     "execution_count": 109,
     "metadata": {},
     "output_type": "execute_result"
    }
   ],
   "source": [
    "#display list in reverse order\n",
    "people.sort(reverse=True)\n",
    "people"
   ]
  },
  {
   "cell_type": "code",
   "execution_count": 110,
   "id": "894145b3",
   "metadata": {},
   "outputs": [
    {
     "data": {
      "text/plain": [
       "[1, 2, 3, 4, 5]"
      ]
     },
     "execution_count": 110,
     "metadata": {},
     "output_type": "execute_result"
    }
   ],
   "source": [
    "numbers=[1,2,3,4,5]\n",
    "numbers.sort()\n",
    "numbers"
   ]
  },
  {
   "cell_type": "code",
   "execution_count": 111,
   "id": "50878fdc",
   "metadata": {},
   "outputs": [
    {
     "data": {
      "text/plain": [
       "[5, 4, 3, 2, 1]"
      ]
     },
     "execution_count": 111,
     "metadata": {},
     "output_type": "execute_result"
    }
   ],
   "source": [
    "numbers.sort(reverse=True)\n",
    "numbers"
   ]
  },
  {
   "cell_type": "markdown",
   "id": "2b03a5f9",
   "metadata": {},
   "source": [
    "\n",
    "                                                        Tuples\n"
   ]
  },
  {
   "cell_type": "markdown",
   "id": "b4f83603",
   "metadata": {},
   "source": [
    "Tuples are a type of data Sequence\n",
    "Tuple are immutable"
   ]
  },
  {
   "cell_type": "code",
   "execution_count": 112,
   "id": "d235543e",
   "metadata": {},
   "outputs": [
    {
     "data": {
      "text/plain": [
       "(10, 20, 30)"
      ]
     },
     "execution_count": 112,
     "metadata": {},
     "output_type": "execute_result"
    }
   ],
   "source": [
    "x=(10,20,30)\n",
    "x"
   ]
  },
  {
   "cell_type": "code",
   "execution_count": 113,
   "id": "0d0fdcca",
   "metadata": {},
   "outputs": [
    {
     "data": {
      "text/plain": [
       "6"
      ]
     },
     "execution_count": 113,
     "metadata": {},
     "output_type": "execute_result"
    }
   ],
   "source": [
    "a,b,c=1,4,6\n",
    "c"
   ]
  },
  {
   "cell_type": "code",
   "execution_count": 115,
   "id": "f776276f",
   "metadata": {},
   "outputs": [
    {
     "data": {
      "text/plain": [
       "10"
      ]
     },
     "execution_count": 115,
     "metadata": {},
     "output_type": "execute_result"
    }
   ],
   "source": [
    "x[0]"
   ]
  },
  {
   "cell_type": "code",
   "execution_count": 116,
   "id": "648eb6da",
   "metadata": {},
   "outputs": [
    {
     "name": "stdout",
     "output_type": "stream",
     "text": [
      "30\n",
      "17\n"
     ]
    }
   ],
   "source": [
    "(age,years_of_school)=\"30,17\".split(',')\n",
    "print(age)\n",
    "print(years_of_school)"
   ]
  },
  {
   "cell_type": "code",
   "execution_count": 119,
   "id": "8c2b830b",
   "metadata": {},
   "outputs": [
    {
     "name": "stdout",
     "output_type": "stream",
     "text": [
      "Area and perimeter: \n"
     ]
    },
    {
     "data": {
      "text/plain": [
       "(9, 12)"
      ]
     },
     "execution_count": 119,
     "metadata": {},
     "output_type": "execute_result"
    }
   ],
   "source": [
    "#Functions can provide tuples as return values\n",
    "def square(x):\n",
    "    a=x**2\n",
    "    p=4*x\n",
    "    print(\"Area and perimeter: \")\n",
    "    return a,p\n",
    "square(3)"
   ]
  },
  {
   "cell_type": "markdown",
   "id": "7e0d4988",
   "metadata": {},
   "source": [
    "\n",
    "                                                    Dictionaries\n",
    "        "
   ]
  },
  {
   "cell_type": "markdown",
   "id": "8e158b74",
   "metadata": {},
   "source": [
    "Dictionaries represent another way of storing data"
   ]
  },
  {
   "cell_type": "code",
   "execution_count": 120,
   "id": "6d3257ec",
   "metadata": {},
   "outputs": [
    {
     "data": {
      "text/plain": [
       "{'k1': 'apple', 'k2': 'ball'}"
      ]
     },
     "execution_count": 120,
     "metadata": {},
     "output_type": "execute_result"
    }
   ],
   "source": [
    "dict={'k1':\"apple\",'k2':\"ball\"}\n",
    "dict"
   ]
  },
  {
   "cell_type": "code",
   "execution_count": 123,
   "id": "da029eac",
   "metadata": {},
   "outputs": [
    {
     "data": {
      "text/plain": [
       "'apple'"
      ]
     },
     "execution_count": 123,
     "metadata": {},
     "output_type": "execute_result"
    }
   ],
   "source": [
    "dict['k1']"
   ]
  },
  {
   "cell_type": "code",
   "execution_count": 125,
   "id": "52122354",
   "metadata": {},
   "outputs": [
    {
     "data": {
      "text/plain": [
       "{'k1': 'apple', 'k2': 'cat'}"
      ]
     },
     "execution_count": 125,
     "metadata": {},
     "output_type": "execute_result"
    }
   ],
   "source": [
    "#replacing values\n",
    "dict['k2']='cat'\n",
    "dict"
   ]
  },
  {
   "cell_type": "code",
   "execution_count": 127,
   "id": "cf28e4e8",
   "metadata": {},
   "outputs": [
    {
     "data": {
      "text/plain": [
       "['p2', 'p3', 'p4']"
      ]
     },
     "execution_count": 127,
     "metadata": {},
     "output_type": "execute_result"
    }
   ],
   "source": [
    "workers={'dept1':'p1','dept2':['p2','p3','p4']}\n",
    "workers['dept2']"
   ]
  },
  {
   "cell_type": "code",
   "execution_count": 131,
   "id": "5d7ce309",
   "metadata": {},
   "outputs": [],
   "source": [
    "Team={}\n",
    "Team['p1']='Abc'\n",
    "Team['p2']='Efg'\n",
    "Team['p3']='Hij'"
   ]
  },
  {
   "cell_type": "code",
   "execution_count": 132,
   "id": "9591384e",
   "metadata": {},
   "outputs": [
    {
     "name": "stdout",
     "output_type": "stream",
     "text": [
      "{'p1': 'Abc', 'p2': 'Efg', 'p3': 'Hij'}\n"
     ]
    }
   ],
   "source": [
    "print(Team)"
   ]
  },
  {
   "cell_type": "code",
   "execution_count": 133,
   "id": "4152744e",
   "metadata": {},
   "outputs": [
    {
     "name": "stdout",
     "output_type": "stream",
     "text": [
      "Hij\n"
     ]
    }
   ],
   "source": [
    "print(Team['p3'])"
   ]
  },
  {
   "cell_type": "code",
   "execution_count": 134,
   "id": "bfd195e5",
   "metadata": {},
   "outputs": [
    {
     "name": "stdout",
     "output_type": "stream",
     "text": [
      "Efg\n"
     ]
    }
   ],
   "source": [
    "print(Team.get('p2'))"
   ]
  },
  {
   "cell_type": "code",
   "execution_count": 156,
   "id": "efbc7274",
   "metadata": {},
   "outputs": [
    {
     "name": "stdout",
     "output_type": "stream",
     "text": [
      "None\n"
     ]
    }
   ],
   "source": [
    "print(Team.get('p7')) #if it doesn't exists"
   ]
  },
  {
   "cell_type": "markdown",
   "id": "d1167bbc",
   "metadata": {},
   "source": [
    "Iterating over a dictionary"
   ]
  },
  {
   "cell_type": "code",
   "execution_count": 159,
   "id": "7a3ef284",
   "metadata": {},
   "outputs": [
    {
     "name": "stdout",
     "output_type": "stream",
     "text": [
      "50\n"
     ]
    }
   ],
   "source": [
    "prices={\n",
    "    'pizza':4,\n",
    "    'burger':5,\n",
    "    'coke':2\n",
    "}\n",
    "quantity={\n",
    "    'pizza':8,\n",
    "    'burger':2,\n",
    "    'coke':4\n",
    "}\n",
    "#how much he spent in pizzahut?\n",
    "spent=0\n",
    "for i in prices:\n",
    "    spent=spent+(prices[i]*quantity[i])\n",
    "print(spent)"
   ]
  },
  {
   "cell_type": "markdown",
   "id": "b3b908ec",
   "metadata": {},
   "source": [
    "\n",
    "                                                  Loops\n"
   ]
  },
  {
   "cell_type": "markdown",
   "id": "ae6daebd",
   "metadata": {},
   "source": [
    "Iterations is the ability to execute a certain code repeatedly"
   ]
  },
  {
   "cell_type": "code",
   "execution_count": 137,
   "id": "27ed9f49",
   "metadata": {},
   "outputs": [
    {
     "name": "stdout",
     "output_type": "stream",
     "text": [
      "0 2 4 6 8 10 12 14 16 18 20 "
     ]
    }
   ],
   "source": [
    "even=[0,2,4,6,8,10,12,14,16,18,20]\n",
    "for n in even:\n",
    "    print(n,end=' ')"
   ]
  },
  {
   "cell_type": "code",
   "execution_count": 138,
   "id": "91eb1be9",
   "metadata": {},
   "outputs": [
    {
     "name": "stdout",
     "output_type": "stream",
     "text": [
      "0 2 4 6 8 10 12 14 16 18 20 "
     ]
    }
   ],
   "source": [
    "x=0\n",
    "while x<=20:\n",
    "    print(x,end=' ')\n",
    "    x=x+2 #incrementing +2"
   ]
  },
  {
   "cell_type": "markdown",
   "id": "eaec621c",
   "metadata": {},
   "source": [
    "\n",
    "                                              Lists with the range()\n"
   ]
  },
  {
   "cell_type": "markdown",
   "id": "58741bfc",
   "metadata": {},
   "source": [
    "range(start,stop,step)\n",
    "start=fsrt num in the list\n",
    "stop=lst value +1\n",
    "step=the distance btw each two consecutive values\n",
    "start=0 step=1 by default"
   ]
  },
  {
   "cell_type": "code",
   "execution_count": 139,
   "id": "d0100ba2",
   "metadata": {},
   "outputs": [
    {
     "data": {
      "text/plain": [
       "range(0, 10)"
      ]
     },
     "execution_count": 139,
     "metadata": {},
     "output_type": "execute_result"
    }
   ],
   "source": [
    "range(10)"
   ]
  },
  {
   "cell_type": "code",
   "execution_count": 140,
   "id": "9d447a99",
   "metadata": {},
   "outputs": [
    {
     "data": {
      "text/plain": [
       "[0, 1, 2, 3, 4, 5, 6, 7, 8, 9]"
      ]
     },
     "execution_count": 140,
     "metadata": {},
     "output_type": "execute_result"
    }
   ],
   "source": [
    "list(range(10)) #to display the sequence of a list"
   ]
  },
  {
   "cell_type": "code",
   "execution_count": 141,
   "id": "10c4cc2b",
   "metadata": {},
   "outputs": [
    {
     "data": {
      "text/plain": [
       "range(3, 7)"
      ]
     },
     "execution_count": 141,
     "metadata": {},
     "output_type": "execute_result"
    }
   ],
   "source": [
    "range(3,7)"
   ]
  },
  {
   "cell_type": "code",
   "execution_count": 142,
   "id": "43f7d85c",
   "metadata": {},
   "outputs": [
    {
     "data": {
      "text/plain": [
       "[3, 4, 5, 6]"
      ]
     },
     "execution_count": 142,
     "metadata": {},
     "output_type": "execute_result"
    }
   ],
   "source": [
    "list(range(3,7))"
   ]
  },
  {
   "cell_type": "code",
   "execution_count": 143,
   "id": "401a3782",
   "metadata": {},
   "outputs": [
    {
     "data": {
      "text/plain": [
       "range(1, 20, 2)"
      ]
     },
     "execution_count": 143,
     "metadata": {},
     "output_type": "execute_result"
    }
   ],
   "source": [
    "range(1,20,2)"
   ]
  },
  {
   "cell_type": "code",
   "execution_count": 145,
   "id": "a1220b2b",
   "metadata": {},
   "outputs": [
    {
     "data": {
      "text/plain": [
       "[1, 3, 5, 7, 9, 11, 13, 15, 17, 19]"
      ]
     },
     "execution_count": 145,
     "metadata": {},
     "output_type": "execute_result"
    }
   ],
   "source": [
    "list(range(1,20,2))"
   ]
  },
  {
   "cell_type": "code",
   "execution_count": 146,
   "id": "bfc8ae11",
   "metadata": {},
   "outputs": [
    {
     "name": "stdout",
     "output_type": "stream",
     "text": [
      "1 2 4 8 16 32 64 128 256 512 "
     ]
    }
   ],
   "source": [
    "for n in range(10):\n",
    "    print(2**n,end=' ')"
   ]
  },
  {
   "cell_type": "code",
   "execution_count": 147,
   "id": "f567691f",
   "metadata": {},
   "outputs": [
    {
     "name": "stdout",
     "output_type": "stream",
     "text": [
      "0 odd 2 odd 4 odd 6 odd 8 odd 10 odd 12 odd 14 odd 16 odd 18 odd "
     ]
    }
   ],
   "source": [
    "for x in range(20):\n",
    "    if x%2==0:\n",
    "        print(x,end=' ')\n",
    "    else:\n",
    "        print(\"odd\",end=' ')"
   ]
  },
  {
   "cell_type": "code",
   "execution_count": 148,
   "id": "7c529b4b",
   "metadata": {},
   "outputs": [
    {
     "name": "stdout",
     "output_type": "stream",
     "text": [
      "0 1 2 "
     ]
    }
   ],
   "source": [
    "x=[0,1,2]\n",
    "for item in x:\n",
    "    print(item,end=' ')"
   ]
  },
  {
   "cell_type": "code",
   "execution_count": 149,
   "id": "0dfc8717",
   "metadata": {},
   "outputs": [
    {
     "name": "stdout",
     "output_type": "stream",
     "text": [
      "0 1 2 "
     ]
    }
   ],
   "source": [
    "for item in range(len(x)):\n",
    "    print(x[item],end=' ')"
   ]
  },
  {
   "cell_type": "code",
   "execution_count": 150,
   "id": "abd9fa06",
   "metadata": {},
   "outputs": [],
   "source": [
    "def count(numbers):\n",
    "    total=0\n",
    "    for x in numbers:\n",
    "        if x<20:\n",
    "            total+=1\n",
    "    return total"
   ]
  },
  {
   "cell_type": "code",
   "execution_count": 154,
   "id": "93834792",
   "metadata": {},
   "outputs": [],
   "source": [
    "list=[1,3,7,15,89,133,24,10]"
   ]
  },
  {
   "cell_type": "code",
   "execution_count": 155,
   "id": "de16c4de",
   "metadata": {},
   "outputs": [
    {
     "data": {
      "text/plain": [
       "5"
      ]
     },
     "execution_count": 155,
     "metadata": {},
     "output_type": "execute_result"
    }
   ],
   "source": [
    "count(list)"
   ]
  }
 ],
 "metadata": {
  "kernelspec": {
   "display_name": "Python 3 (ipykernel)",
   "language": "python",
   "name": "python3"
  },
  "language_info": {
   "codemirror_mode": {
    "name": "ipython",
    "version": 3
   },
   "file_extension": ".py",
   "mimetype": "text/x-python",
   "name": "python",
   "nbconvert_exporter": "python",
   "pygments_lexer": "ipython3",
   "version": "3.9.7"
  }
 },
 "nbformat": 4,
 "nbformat_minor": 5
}
